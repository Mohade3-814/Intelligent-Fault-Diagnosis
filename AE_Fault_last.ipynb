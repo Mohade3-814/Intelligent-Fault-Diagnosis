{
  "cells": [
    {
      "cell_type": "code",
      "source": [
        "from google.colab import drive\n",
        "drive.mount('/content/drive')\n",
        "%cd drive\n",
        "%cd MyDrive\n",
        "%cd AE_Fault\n"
      ],
      "metadata": {
        "colab": {
          "base_uri": "https://localhost:8080/"
        },
        "id": "coOG0JixtUGn",
        "outputId": "e76b8c55-e2b2-43cc-f4b5-ea9d93c0ebcb"
      },
      "execution_count": 7,
      "outputs": [
        {
          "output_type": "stream",
          "name": "stdout",
          "text": [
            "Drive already mounted at /content/drive; to attempt to forcibly remount, call drive.mount(\"/content/drive\", force_remount=True).\n",
            "[Errno 2] No such file or directory: 'drive'\n",
            "/content/drive\n",
            "/content/drive/MyDrive\n",
            "/content/drive/MyDrive/AE_Fault\n"
          ]
        }
      ]
    },
    {
      "cell_type": "code",
      "source": [
        "%ls"
      ],
      "metadata": {
        "colab": {
          "base_uri": "https://localhost:8080/"
        },
        "id": "mmUpj1K7to58",
        "outputId": "d90b7ea1-59ec-4834-96cd-7dc191b83d64"
      },
      "execution_count": 8,
      "outputs": [
        {
          "output_type": "stream",
          "name": "stdout",
          "text": [
            "AE_Fault.ipynb  data.npy  feature_time_48k_2048_load_1.csv  labels.npy\n"
          ]
        }
      ]
    },
    {
      "cell_type": "code",
      "execution_count": 9,
      "metadata": {
        "id": "RiZGpx1rnGeS"
      },
      "outputs": [],
      "source": [
        "import numpy as np\n",
        "import gym\n",
        "import matplotlib.pyplot as plt\n",
        "import scipy.io as sc\n",
        "from sklearn.model_selection import train_test_split\n",
        "from tensorflow.keras.utils import to_categorical\n",
        "\n",
        "import matplotlib.pyplot as plt\n",
        "\n",
        "import tensorflow as tf\n",
        "from tensorflow.keras.layers import Input, Conv2D, MaxPooling2D, UpSampling2D, Flatten, Dense, Reshape,  Lambda\n",
        "from tensorflow.keras.models import Model\n",
        "from tensorflow.keras.preprocessing.image import img_to_array, load_img\n",
        "from tensorflow.keras import backend as K\n",
        "from tensorflow.keras.losses import binary_crossentropy\n",
        "\n",
        "from sklearn.metrics import confusion_matrix, precision_score, recall_score\n",
        "\n",
        "import os"
      ]
    },
    {
      "cell_type": "code",
      "execution_count": 10,
      "metadata": {
        "id": "j4qccA0fpy2d"
      },
      "outputs": [],
      "source": [
        "data = np.load('data.npy')\n",
        "label = np.load('labels.npy')\n",
        "label_number = np.zeros(label.shape)"
      ]
    },
    {
      "cell_type": "code",
      "execution_count": 11,
      "metadata": {
        "id": "Ukjc-YwCp4BE"
      },
      "outputs": [],
      "source": [
        "label_names = np.unique(label)"
      ]
    },
    {
      "cell_type": "code",
      "execution_count": 12,
      "metadata": {
        "id": "EZZ7ttBkqAsg"
      },
      "outputs": [],
      "source": [
        "X = data.reshape([data.shape[0],-1])\n",
        "Y = label_names.reshape([-1,1])"
      ]
    },
    {
      "cell_type": "code",
      "execution_count": 13,
      "metadata": {
        "id": "HQiFzClcqAwL"
      },
      "outputs": [],
      "source": [
        "for i in range(len(label_names)):\n",
        "    label_number[label == label_names[i]] = i"
      ]
    },
    {
      "cell_type": "code",
      "execution_count": 14,
      "metadata": {
        "id": "Ke-kKuBeqAzj"
      },
      "outputs": [],
      "source": [
        "Y = label_number.reshape([-1,1])"
      ]
    },
    {
      "cell_type": "code",
      "execution_count": 15,
      "metadata": {
        "id": "zV7VI0nVqA2V"
      },
      "outputs": [],
      "source": [
        "MAX = X.max()\n",
        "MIN = X.min()\n",
        "X_NORMALIZED = (X - MIN) / (MAX - MIN)"
      ]
    },
    {
      "cell_type": "code",
      "execution_count": 16,
      "metadata": {
        "colab": {
          "base_uri": "https://localhost:8080/"
        },
        "id": "Y9upo9fcqA5N",
        "outputId": "68a6cfaa-0ec3-4b34-f96b-1e3873018612"
      },
      "outputs": [
        {
          "output_type": "stream",
          "name": "stdout",
          "text": [
            "X_train shape: (3680, 1024)\n",
            "X_test shape: (920, 1024)\n",
            "Y_train shape: (3680, 10)\n",
            "Y_test shape: (920, 10)\n"
          ]
        }
      ],
      "source": [
        "# Convert integer labels to one-hot encoded labels\n",
        "num_actions = len(np.unique(Y))\n",
        "Y_one_hot = to_categorical(Y-1, num_classes=num_actions)\n",
        "\n",
        "# Perform train-test split\n",
        "X_train, X_test, Y_train, Y_test = train_test_split(X_NORMALIZED, Y_one_hot, test_size=0.2, random_state=42, shuffle=True)\n",
        "\n",
        "# Print the shapes of the resulting sets\n",
        "print(\"X_train shape:\", X_train.shape)\n",
        "print(\"X_test shape:\", X_test.shape)\n",
        "print(\"Y_train shape:\", Y_train.shape)\n",
        "print(\"Y_test shape:\", Y_test.shape)"
      ]
    },
    {
      "cell_type": "code",
      "execution_count": 17,
      "metadata": {
        "id": "8QvqqSS-qA72"
      },
      "outputs": [],
      "source": [
        "normal_data_indices = np.where(Y_train == 0)[0]\n",
        "X_train_normal = X_train[normal_data_indices]\n",
        "\n",
        "normal_data_indices = np.where(Y_test == 0)[0]\n",
        "X_test_normal = X_test[normal_data_indices]"
      ]
    },
    {
      "cell_type": "code",
      "execution_count": 18,
      "metadata": {
        "id": "0IuwnvMBqA-e"
      },
      "outputs": [],
      "source": [
        "input_img = Input(shape=(32, 32, 1))\n",
        "\n",
        "x = Conv2D(32, (3, 3), activation='relu', padding='same')(input_img)\n",
        "x = MaxPooling2D((2, 2), padding='same')(x)\n",
        "x = Conv2D(16, (3, 3), activation='relu', padding='same')(x)\n",
        "x = MaxPooling2D((2, 2), padding='same')(x)\n",
        "x = Flatten()(x)\n",
        "encoded = Dense(32, activation='relu')(x)\n",
        "x = Dense(8 * 8 * 8, activation='relu')(encoded)\n",
        "x = Reshape((8, 8, 8))(x)\n",
        "x = Conv2D(16, (3, 3), activation='relu', padding='same')(x)\n",
        "x = UpSampling2D((2, 2))(x)\n",
        "x = Conv2D(32, (3, 3), activation='relu', padding='same')(x)\n",
        "x = UpSampling2D((2, 2))(x)\n",
        "decoded = Conv2D(3, (3, 3), activation='sigmoid', padding='same')(x)\n",
        "\n",
        "autoencoder = Model(input_img, decoded)\n",
        "autoencoder.compile(optimizer='adam', loss='mse')"
      ]
    },
    {
      "cell_type": "code",
      "execution_count": 19,
      "metadata": {
        "id": "cAwko7ExqBBY"
      },
      "outputs": [],
      "source": [
        "X_train_normal = X_train_normal.reshape([-1,32,32, 1])\n",
        "X_test_normal = X_test_normal.reshape([-1,32,32, 1])"
      ]
    },
    {
      "cell_type": "code",
      "execution_count": 32,
      "metadata": {
        "colab": {
          "base_uri": "https://localhost:8080/"
        },
        "id": "bsd2lW0XqkLE",
        "outputId": "a82e5e6d-b47a-4967-8957-166cc1c4eadb"
      },
      "outputs": [
        {
          "output_type": "stream",
          "name": "stdout",
          "text": [
            "Epoch 1/20\n",
            "1035/1035 [==============================] - 86s 83ms/step - loss: 2.6795e-04 - val_loss: 3.1859e-04\n",
            "Epoch 2/20\n",
            "1035/1035 [==============================] - 87s 84ms/step - loss: 2.6256e-04 - val_loss: 3.1688e-04\n",
            "Epoch 3/20\n",
            "1035/1035 [==============================] - 85s 82ms/step - loss: 2.5800e-04 - val_loss: 3.1463e-04\n",
            "Epoch 4/20\n",
            "1035/1035 [==============================] - 85s 82ms/step - loss: 2.5433e-04 - val_loss: 3.1564e-04\n",
            "Epoch 5/20\n",
            "1035/1035 [==============================] - 85s 82ms/step - loss: 2.5100e-04 - val_loss: 3.1229e-04\n",
            "Epoch 6/20\n",
            "1035/1035 [==============================] - 86s 83ms/step - loss: 2.4775e-04 - val_loss: 3.1304e-04\n",
            "Epoch 7/20\n",
            "1035/1035 [==============================] - 85s 82ms/step - loss: 2.4496e-04 - val_loss: 3.0757e-04\n",
            "Epoch 8/20\n",
            "1035/1035 [==============================] - 84s 81ms/step - loss: 2.4236e-04 - val_loss: 3.0707e-04\n",
            "Epoch 9/20\n",
            "1035/1035 [==============================] - 87s 84ms/step - loss: 2.3996e-04 - val_loss: 3.0572e-04\n",
            "Epoch 10/20\n",
            "1035/1035 [==============================] - 83s 81ms/step - loss: 2.3762e-04 - val_loss: 3.0800e-04\n",
            "Epoch 11/20\n",
            "1035/1035 [==============================] - 88s 85ms/step - loss: 2.3569e-04 - val_loss: 3.0417e-04\n",
            "Epoch 12/20\n",
            "1035/1035 [==============================] - 84s 81ms/step - loss: 2.3438e-04 - val_loss: 3.0732e-04\n",
            "Epoch 13/20\n",
            "1035/1035 [==============================] - 84s 81ms/step - loss: 2.3209e-04 - val_loss: 3.0580e-04\n",
            "Epoch 14/20\n",
            "1035/1035 [==============================] - 88s 85ms/step - loss: 2.3121e-04 - val_loss: 3.0455e-04\n",
            "Epoch 15/20\n",
            "1035/1035 [==============================] - 83s 80ms/step - loss: 2.2912e-04 - val_loss: 3.0682e-04\n",
            "Epoch 16/20\n",
            "1035/1035 [==============================] - 88s 85ms/step - loss: 2.2833e-04 - val_loss: 3.0633e-04\n",
            "Epoch 17/20\n",
            "1035/1035 [==============================] - 84s 81ms/step - loss: 2.2731e-04 - val_loss: 3.0475e-04\n",
            "Epoch 18/20\n",
            "1035/1035 [==============================] - 88s 85ms/step - loss: 2.2558e-04 - val_loss: 3.0267e-04\n",
            "Epoch 19/20\n",
            "1035/1035 [==============================] - 83s 81ms/step - loss: 2.2514e-04 - val_loss: 3.0856e-04\n",
            "Epoch 20/20\n",
            "1035/1035 [==============================] - 86s 83ms/step - loss: 2.2390e-04 - val_loss: 3.0439e-04\n"
          ]
        }
      ],
      "source": [
        "history2 = autoencoder.fit(X_train_normal, X_train_normal, epochs=20, batch_size=32, shuffle=True, validation_data=(X_test_normal, X_test_normal))\n",
        "\n",
        "# Evaluate the performance\n",
        "# conf_matrix = confusion_matrix(Y_test, y_pred)\n",
        "# precision = precision_score(Y_test, y_pred, average='weighted')\n",
        "# recall = recall_score(Y_test, y_pred, average='weighted')\n",
        "\n",
        "# print(\"Confusion Matrix:\\n\", conf_matrix)\n",
        "# print(\"Precision: {:.2f}\".format(precision))\n",
        "# print(\"Recall: {:.2f}\".format(recall))"
      ]
    },
    {
      "cell_type": "code",
      "source": [
        "# Reconstruction and Thresholding\n",
        "decoded_images = autoencoder.predict(X_test_normal)\n",
        "mse = np.mean(np.square(X_test_normal - decoded_images), axis=(1, 2, 3))\n",
        "threshold = np.mean(mse) - 0.1 * np.std(mse)\n",
        "\n",
        "# Classify instances as normal or faulty based on the threshold\n",
        "decoded_images_pred = autoencoder.predict(X_test.reshape([-1, 32, 32, 1]))\n",
        "mse_pred = np.mean(np.square(X_test.reshape([-1,32,32, 1]) - decoded_images_pred), axis=(1, 2, 3))\n",
        "y_pred = (mse_pred > threshold).astype(int)"
      ],
      "metadata": {
        "colab": {
          "base_uri": "https://localhost:8080/"
        },
        "id": "q0zrOALZxrXb",
        "outputId": "f23de7b3-8d56-4a8e-a6ad-3ef581a634a4"
      },
      "execution_count": 49,
      "outputs": [
        {
          "output_type": "stream",
          "name": "stdout",
          "text": [
            "259/259 [==============================] - 9s 35ms/step\n",
            "29/29 [==============================] - 1s 48ms/step\n"
          ]
        }
      ]
    },
    {
      "cell_type": "code",
      "execution_count": 50,
      "metadata": {
        "colab": {
          "base_uri": "https://localhost:8080/"
        },
        "id": "ZT8vAV8KtRhZ",
        "outputId": "aeecab27-78aa-4ca3-e54e-543eda2a254c"
      },
      "outputs": [
        {
          "output_type": "stream",
          "name": "stdout",
          "text": [
            "Confusion Matrix:\n",
            " [[ 96   0]\n",
            " [487 337]]\n",
            "Precision: 0.91\n",
            "Recall: 0.47\n"
          ]
        }
      ],
      "source": [
        "# Evaluate the performance\n",
        "temp = np.zeros(Y_test.shape[0])\n",
        "temp[Y_test[:,0]==0] = 1\n",
        "\n",
        "temp = temp.reshape([-1,1])\n",
        "y_pred = y_pred.reshape([-1,1])\n",
        "conf_matrix = confusion_matrix(temp, y_pred)\n",
        "precision = precision_score(temp, y_pred, average='weighted')\n",
        "recall = recall_score(temp, y_pred, average='weighted')\n",
        "\n",
        "print(\"Confusion Matrix:\\n\", conf_matrix)\n",
        "print(\"Precision: {:.2f}\".format(precision))\n",
        "print(\"Recall: {:.2f}\".format(recall))"
      ]
    },
    {
      "cell_type": "code",
      "execution_count": 51,
      "metadata": {
        "colab": {
          "base_uri": "https://localhost:8080/",
          "height": 502
        },
        "id": "FxdCecaDzyaI",
        "outputId": "a117e6a5-ab34-4c99-d008-7901ba9c41c4"
      },
      "outputs": [
        {
          "output_type": "stream",
          "name": "stderr",
          "text": [
            "/usr/local/lib/python3.10/dist-packages/ipykernel/ipkernel.py:283: DeprecationWarning: `should_run_async` will not call `transform_cell` automatically in the future. Please pass the result to `transformed_cell` argument and any exception that happen during thetransform in `preprocessing_exc_tuple` in IPython 7.17 and above.\n",
            "  and should_run_async(code)\n"
          ]
        },
        {
          "output_type": "execute_result",
          "data": {
            "text/plain": [
              "[<matplotlib.lines.Line2D at 0x7a7a99c314b0>]"
            ]
          },
          "metadata": {},
          "execution_count": 51
        },
        {
          "output_type": "display_data",
          "data": {
            "text/plain": [
              "<Figure size 640x480 with 1 Axes>"
            ],
            "image/png": "[encoded data removed]"
          },
          "metadata": {}
        }
      ],
      "source": [
        "plt.plot(history2.history['loss'])\n",
        "plt.plot(history2.history['val_loss'])"
      ]
    },
    {
      "cell_type": "code",
      "execution_count": 52,
      "metadata": {
        "colab": {
          "base_uri": "https://localhost:8080/",
          "height": 616
        },
        "id": "k2Kkh1MdtRhc",
        "outputId": "972570f0-b3c2-4a72-cb67-169fde7453eb"
      },
      "outputs": [
        {
          "output_type": "execute_result",
          "data": {
            "text/plain": [
              "<Axes: >"
            ]
          },
          "metadata": {},
          "execution_count": 52
        },
        {
          "output_type": "display_data",
          "data": {
            "text/plain": [
              "<Figure size 1000x700 with 2 Axes>"
            ],
            "image/png": "[encoded data removed]"
          },
          "metadata": {}
        }
      ],
      "source": [
        "import seaborn as sn\n",
        "import pandas as pd\n",
        "import matplotlib.pyplot as plt\n",
        "\n",
        "plt.figure(figsize = (10,7))\n",
        "sn.heatmap(conf_matrix, annot=True)"
      ]
    },
    {
      "cell_type": "code",
      "execution_count": null,
      "metadata": {
        "id": "KVkwq9jUtRhd"
      },
      "outputs": [],
      "source": []
    }
  ],
  "metadata": {
    "colab": {
      "provenance": []
    },
    "kernelspec": {
      "display_name": "Python 3",
      "name": "python3"
    },
    "language_info": {
      "codemirror_mode": {
        "name": "ipython",
        "version": 3
      },
      "file_extension": ".py",
      "mimetype": "text/x-python",
      "name": "python",
      "nbconvert_exporter": "python",
      "pygments_lexer": "ipython3",
      "version": "3.12.0"
    }
  },
  "nbformat": 4,
  "nbformat_minor": 0
}